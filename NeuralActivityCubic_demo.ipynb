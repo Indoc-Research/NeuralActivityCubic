{
 "cells": [
  {
   "cell_type": "markdown",
   "id": "92e4dabc-9944-4e21-9da9-4ab373a73bcd",
   "metadata": {},
   "source": [
    "# **Welcome to _NeuralActivityCubic_!**\n",
    "\n",
    "All you need to do to open the Graphical User Interface (GUI) of NeuralActivityCubic (NA3) in this Jupyter Notebook is to run the code in the following cell. You can do so for instance by clicking somewhere in the gray shaded area below and then on the little triangular _Play_ icon at the top of this window - it should be somewhere right above the \"o\" in \"Welcome\"! ;-) If you´re entirely new to NA3, consider watching this screen recording first to familiarize yourself with the basic functionalities.\n",
    "\n",
    "**Note:** In case you´re running this Notebook on your own compute resources, please make sure you completed the installation of NA3 successfully before continuing."
   ]
  },
  {
   "cell_type": "code",
   "execution_count": null,
   "id": "1e53c794-02ad-4f69-8236-b604d491eb35",
   "metadata": {},
   "outputs": [],
   "source": [
    "import neuralactivitycubic as na3\n",
    "\n",
    "na3.open_gui()"
   ]
  }
 ],
 "metadata": {
  "kernelspec": {
   "display_name": "Python 3 (ipykernel)",
   "language": "python",
   "name": "python3"
  },
  "language_info": {
   "codemirror_mode": {
    "name": "ipython",
    "version": 3
   },
   "file_extension": ".py",
   "mimetype": "text/x-python",
   "name": "python",
   "nbconvert_exporter": "python",
   "pygments_lexer": "ipython3",
   "version": "3.11.5"
  }
 },
 "nbformat": 4,
 "nbformat_minor": 5
}
