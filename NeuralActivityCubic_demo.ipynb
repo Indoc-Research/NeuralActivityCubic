{
 "cells": [
  {
   "cell_type": "code",
   "execution_count": 1,
   "id": "1e53c794-02ad-4f69-8236-b604d491eb35",
   "metadata": {},
   "outputs": [],
   "source": [
    "from neuralactivitycubic.interface import show\n",
    "\n",
    "show()"
   ]
  }
 ],
 "metadata": {
  "kernelspec": {
   "display_name": "Python 3 (ipykernel)",
   "language": "python",
   "name": "python3"
  },
  "language_info": {
   "codemirror_mode": {
    "name": "ipython",
    "version": 3
   },
   "file_extension": ".py",
   "mimetype": "text/x-python",
   "name": "python",
   "nbconvert_exporter": "python",
   "pygments_lexer": "ipython3",
   "version": "3.11.5"
  }
 },
 "nbformat": 4,
 "nbformat_minor": 5
}
