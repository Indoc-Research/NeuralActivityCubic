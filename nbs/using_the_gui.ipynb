{
 "cells": [
  {
   "cell_type": "markdown",
   "id": "b1b6d372-9404-4c15-8de0-3d6f316115c1",
   "metadata": {},
   "source": [
    "# Using NA³ via the GUI"
   ]
  },
  {
   "cell_type": "markdown",
   "id": "48a54c29-39c5-47d7-a5d3-5cb0b12db570",
   "metadata": {},
   "source": [
    ":::{.callout-note}\n",
    "We´re still putting a few finishing touches onto the new implementation of NA³, so please be aware that this version remains under active development and should not yet be considered as a stable release.\n",
    ":::"
   ]
  },
  {
   "cell_type": "markdown",
   "id": "6b3730f3-5fad-49f6-b6c4-f1c7ae539c2b",
   "metadata": {},
   "source": [
    ":::{.callout-tip}\n",
    "We´re currently working on a paper describing our work in more details - make sure you stay tuned and regularly check these docs for updates!\n",
    ":::"
   ]
  },
  {
   "cell_type": "markdown",
   "id": "e6fc70b7-99d0-4fec-96ae-846f88d40a23",
   "metadata": {},
   "source": [
    "## Launching the GUI"
   ]
  },
  {
   "cell_type": "markdown",
   "id": "7a650aa0-9eb6-469d-b0c3-4901d490085b",
   "metadata": {},
   "source": [
    "After you successfully completed the installation of NA³ (e.g. by following our [Installation Guide](https://indoc-research.github.io/NeuralActivityCubic/installation.html)), please open a JupyterNotebook to launch the GUI of NA³.\n",
    "\n",
    "To do this, open the Anaconda Prompt terminal (or the terminal of your choice) and make sure the virtual environment in which you installed NA³ is active. If you followed our installation guide, you should see that the input line starts with `(na3)`. If this is not the case, you can always activate it by running the following command:"
   ]
  },
  {
   "cell_type": "code",
   "execution_count": null,
   "id": "6c65cd6a-d751-43a7-bd43-d1bc0c09d95c",
   "metadata": {},
   "outputs": [],
   "source": [
    "#|eval: false\n",
    "conda activate na3"
   ]
  },
  {
   "cell_type": "markdown",
   "id": "cba296d7-a4b0-4483-bb16-c1dcd82062fc",
   "metadata": {},
   "source": [
    "With the virtual environment in which you installed NA³ activated, please execute the following command in the terminal:"
   ]
  },
  {
   "cell_type": "code",
   "execution_count": null,
   "id": "1f2c5c34-d9f8-4eee-8cd2-3a28d941888a",
   "metadata": {},
   "outputs": [],
   "source": [
    "#|eval: false\n",
    "jupyter-lab"
   ]
  },
  {
   "cell_type": "markdown",
   "id": "ee2dd72a-19ba-431f-a39a-0fc33dcdc318",
   "metadata": {},
   "source": [
    "Next, open a new JupyterNotebook by clicking on the \"Python 3 (ipykernel)\" button in the *Notebook* section. In this JupyterNotebook, paste the following code in a cell:"
   ]
  },
  {
   "cell_type": "code",
   "execution_count": null,
   "id": "47770492-2cd8-4335-b660-0d2ff28b09d0",
   "metadata": {},
   "outputs": [],
   "source": [
    "#|eval: false\n",
    "import neuralactivitycubic as na3\n",
    "\n",
    "na3.open_gui()"
   ]
  },
  {
   "cell_type": "markdown",
   "id": "1c321119-d490-4cb2-b394-e2b3a03f8060",
   "metadata": {},
   "source": [
    "Then, as a final step, execute the cell, for instance by clicking on the little play icon on top while the cell is selected and the GUI of NA³ will open in the Notebook:"
   ]
  },
  {
   "cell_type": "markdown",
   "id": "88d96f27-53ff-4c1d-9ce2-c8cbdc36f85b",
   "metadata": {},
   "source": [
    "{{< video ./media/launch_na3_gui.mp4 >}}"
   ]
  },
  {
   "cell_type": "markdown",
   "id": "311ca025-a458-448c-9aa3-dbc1bd9a0e5a",
   "metadata": {},
   "source": [
    ":::{.callout-tip}\n",
    "If you´re working on a smaller screen, e.g. if you´re using a notebook, you can use the keyboard shortcut `Ctrl + b` to collapse the file explorer panel of JupyterLab to the left of the JupyterNotebook to give you some extra horizontal space. You can always use the same keyboard shortcut again to bring it back again if needed.\n",
    ":::"
   ]
  },
  {
   "cell_type": "markdown",
   "id": "58f8cb11-fb8e-4e0b-97c2-4b917f637a60",
   "metadata": {},
   "source": [
    "## Quick Walkthrough"
   ]
  },
  {
   "cell_type": "markdown",
   "id": "494c1869-ec43-4581-a7a3-d74be36f2fc8",
   "metadata": {},
   "source": [
    "We´re all busy people and documentation can be quite exhaustive to read. Thus, here´s a quick walkthrough of NA³´s core functionalities that should allow you to get going with your own first tests:\n",
    "\n",
    "{{< video ./media/GUI_walkthrough.mp4 >}}"
   ]
  },
  {
   "cell_type": "markdown",
   "id": "608ceaa8-062d-4967-b359-7ec9592db01e",
   "metadata": {},
   "source": [
    "For more detailed descriptions of the individual features and settings, please see the sections below."
   ]
  },
  {
   "cell_type": "markdown",
   "id": "a4bc0165-59ec-41d6-9b47-b0cf78c2e0ab",
   "metadata": {},
   "source": [
    "## General Settings"
   ]
  },
  {
   "cell_type": "markdown",
   "id": "bf513f7a-11dd-4535-a7e9-02980e322ced",
   "metadata": {},
   "source": [
    "The first section of NA³'s GUI prompts you to specify the general settings of your analysis before being able to continue. Most importantly, the selections will have an impact on the structure and organization of your source data that NA³ expects. Thus, please make sure you consult the Source Data Structure section below to check what structure is requested for your specific combination of settings."
   ]
  },
  {
   "cell_type": "markdown",
   "id": "b147b45f-a98b-4ec2-aa0b-c92ff6712d7c",
   "metadata": {},
   "source": [
    "### ROI modes:"
   ]
  },
  {
   "cell_type": "markdown",
   "id": "412f1f2d-7022-4789-8779-05181d4fcaf7",
   "metadata": {},
   "source": [
    "NA³´s core functionality is to compute the signal intensity over time for defined regions of interest (ROIs) within the whole image. You either have the chance to provide source data that defines these ROIs (\"Predefined ROIs\"), or you can use NA³´s \"Grid\" mode to automatically create congruent square ROIs over your recording with adjustable sizes (`Grid size` - see Analysis Settings) that will be analyzed."
   ]
  },
  {
   "cell_type": "markdown",
   "id": "7e6a08ea-8df1-4d6b-b3ea-a04309414767",
   "metadata": {},
   "source": [
    "#### Grid (congruent squares):"
   ]
  },
  {
   "cell_type": "markdown",
   "id": "dae39b57-c7fc-4156-b148-01fe5057f8f0",
   "metadata": {},
   "source": [
    "The main advantage of NA³´s Grid mode is that it does not require any additional input other than your recording file to start the analysis with NA³. This can be especially useful in high-throughput settings, as it eliminates additional (potentially manual) preprocessing steps to generate ROIs."
   ]
  },
  {
   "cell_type": "markdown",
   "id": "a09e9b89-a195-4288-9cb1-3168a8c6bad7",
   "metadata": {},
   "source": [
    "#### Predefined ROIs:"
   ]
  },
  {
   "cell_type": "markdown",
   "id": "7409776b-5f99-44ec-8388-8b5f89d4f5ed",
   "metadata": {},
   "source": [
    "Sometimes you want to investigate specific features instead of the whole field of view, though. For this, NA³ provides the option for you to provide predefined ROIs along with your source data. Currently, only ROIs created with the [ImageJ tools](https://imagej.net/) are supported.\n",
    "\n",
    ":::{.callout-tip}\n",
    "The predefined ROI filetype that your are using is currently not supported? That needs to be changed! Please drop us your feature request via [GitHub](https://github.com/Indoc-Research/NeuralActivityCubic/issues/new) and we´ll implement it for you asap.\n",
    ":::"
   ]
  },
  {
   "cell_type": "markdown",
   "id": "f13577c8-a5b7-4044-a47c-62972b3cecef",
   "metadata": {},
   "source": [
    "### Batch mode:"
   ]
  },
  {
   "cell_type": "markdown",
   "id": "d279371a-3ee1-427a-8cbc-9c09526ef276",
   "metadata": {},
   "source": [
    "The period of trouble shooting and of adjusting individual experimental parameters is finally over and you are ready to process all your data at once? That´s awesome, congrats! As an additional reward, NA³ offers you a batch mode feature: You select your entire dataset as source data and then only have to specify the settings once, hit \"Run Analysis\" and then leave for a well deserved end-of-day, while NA³ and your computer do the heavy lifting for you and process your entire dataset, recording after recording. Batch mode is compatible with all ROI-modes (Grid & predefined ROIs), and can even be combined with Focus Areas."
   ]
  },
  {
   "cell_type": "markdown",
   "id": "b8292132-c3c8-4490-841b-0f9bda1d77dc",
   "metadata": {},
   "source": [
    "### Focus areas:"
   ]
  },
  {
   "cell_type": "markdown",
   "id": "60a9f019-83b5-4bbd-80d6-3a537dd7e9c0",
   "metadata": {},
   "source": [
    "This feature is for those of you who want - or may need - to squeeze out every single percent of processing speed. It allows you to provide another ROI (or even set of ROIs), to which NA³ will restrict it´s analysis, while ignoring any ROIs that reside outside of these Focus Areas. Since processing of each ROI takes ~ the same amount of time (it can be considered a linear operation), not processing 50 % of the ROIs will cut your processing time almost in half! We tried to illustrate this with the following example, in which we used NA³´s Grid mode with the Focus Area being disabled or enabled, saving ~2/3´s of processing time:\n",
    "\n",
    "![Focus Area mode to max out performance.](./media/focus_area_speed_boost.png)"
   ]
  },
  {
   "cell_type": "markdown",
   "id": "458472fe-ca88-48c9-8ff3-059ba7980612",
   "metadata": {},
   "source": [
    "### Source data structure"
   ]
  },
  {
   "cell_type": "markdown",
   "id": "98dfcdfb-261b-408d-882e-6ad741e94334",
   "metadata": {},
   "source": [
    "lorem ipsum lorem ipsum lorem ipsum "
   ]
  },
  {
   "cell_type": "markdown",
   "id": "57e04dfc-c440-4f3b-88cc-43fb614d5166",
   "metadata": {},
   "source": [
    "## Analysis Settings:"
   ]
  },
  {
   "cell_type": "markdown",
   "id": "b7d5dc86-b9bf-4889-9e00-71fa95856183",
   "metadata": {},
   "source": [
    "lorem ipsum lorem ipsum lorem ipsum "
   ]
  },
  {
   "cell_type": "markdown",
   "id": "fb4066da-4ee4-4db3-b309-8ee129cb1598",
   "metadata": {},
   "source": [
    "### Optional settings:"
   ]
  },
  {
   "cell_type": "markdown",
   "id": "70bd07e6-38c1-480c-9d94-bd33b1ea6755",
   "metadata": {},
   "source": [
    "lorem ipsum lorem ipsum lorem ipsum "
   ]
  },
  {
   "cell_type": "markdown",
   "id": "65745794-9a1e-4ce7-abc3-cdf749d61963",
   "metadata": {},
   "source": [
    "### Result settings:"
   ]
  },
  {
   "cell_type": "markdown",
   "id": "5c94eb9a-562e-433c-867d-8e20b7504b0b",
   "metadata": {},
   "source": [
    "lorem ipsum lorem ipsum lorem ipsum "
   ]
  },
  {
   "cell_type": "markdown",
   "id": "71015301-98ea-4cec-b91f-9ed6ecbf8ec8",
   "metadata": {},
   "source": [
    "## Generated Results:"
   ]
  },
  {
   "cell_type": "markdown",
   "id": "9865f957-b78c-4aa1-a02e-39ba10affa99",
   "metadata": {},
   "source": [
    "lorem ipsum lorem ipsum lorem ipsum "
   ]
  },
  {
   "cell_type": "markdown",
   "id": "f3e79c54-d56a-4cc8-b4de-6d2f700c2278",
   "metadata": {},
   "source": []
  },
  {
   "cell_type": "markdown",
   "id": "b8951f06-a20d-47c2-9bfa-4a66d171526f",
   "metadata": {},
   "source": []
  },
  {
   "cell_type": "markdown",
   "id": "fd09f939-1a34-4cf6-bb99-54b3c47c859b",
   "metadata": {},
   "source": []
  },
  {
   "cell_type": "markdown",
   "id": "a5aaafa5-5533-4aeb-b15c-01e4bb8ed706",
   "metadata": {},
   "source": []
  },
  {
   "cell_type": "markdown",
   "id": "de7ef953-f7ae-4fe0-b7e1-cd720503275c",
   "metadata": {},
   "source": []
  },
  {
   "cell_type": "markdown",
   "id": "91b6feab-f0d1-4df5-86ff-ce37dd08cf73",
   "metadata": {},
   "source": []
  },
  {
   "cell_type": "markdown",
   "id": "4d0acc09-77de-46fa-8999-4c478ed9a410",
   "metadata": {},
   "source": []
  },
  {
   "cell_type": "markdown",
   "id": "08d3fe5e-0f1d-4847-95b6-ac07f87bdc77",
   "metadata": {},
   "source": []
  },
  {
   "cell_type": "markdown",
   "id": "ff945ca8-4029-44f0-8ed7-d256bcf4bf2a",
   "metadata": {},
   "source": []
  },
  {
   "cell_type": "markdown",
   "id": "5f8a0f1b-16ac-4552-bac6-520a5dcdfc2d",
   "metadata": {},
   "source": []
  },
  {
   "cell_type": "markdown",
   "id": "0c798983-870c-4912-a837-4873fd0feda6",
   "metadata": {},
   "source": []
  },
  {
   "cell_type": "markdown",
   "id": "49254d8a-a342-43fe-9d62-c0e06e29c287",
   "metadata": {},
   "source": []
  },
  {
   "cell_type": "markdown",
   "id": "8379072b-3ba4-4501-86f5-a89acf516f18",
   "metadata": {},
   "source": []
  },
  {
   "cell_type": "markdown",
   "id": "72783b79-0266-4b52-a76d-c4056fd4287d",
   "metadata": {},
   "source": []
  }
 ],
 "metadata": {
  "kernelspec": {
   "display_name": "python3",
   "language": "python",
   "name": "python3"
  }
 },
 "nbformat": 4,
 "nbformat_minor": 5
}
