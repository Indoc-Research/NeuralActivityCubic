{
 "cells": [
  {
   "cell_type": "markdown",
   "metadata": {},
   "source": [
    "# results\n",
    "\n",
    "> Defines the creation of result data structures."
   ]
  },
  {
   "cell_type": "code",
   "execution_count": null,
   "metadata": {},
   "outputs": [],
   "source": [
    "#| default_exp results"
   ]
  },
  {
   "cell_type": "code",
   "execution_count": null,
   "metadata": {},
   "outputs": [],
   "source": [
    "#| hide\n",
    "from nbdev.showdoc import *"
   ]
  },
  {
   "cell_type": "code",
   "execution_count": null,
   "metadata": {},
   "outputs": [],
   "source": [
    "#| export\n",
    "import matplotlib.pyplot as plt\n",
    "from matplotlib.transforms import Bbox\n",
    "import numpy as np\n",
    "import pandas as pd\n",
    "from shapely import get_coordinates\n",
    "from typing import List, Tuple, Optional, Union, Any, Dict #, Never\n",
    "from pathlib import Path\n",
    "from matplotlib.text import Text\n",
    "from matplotlib.figure import Figure\n",
    "from matplotlib.axes._axes import Axes "
   ]
  },
  {
   "cell_type": "code",
   "execution_count": null,
   "metadata": {},
   "outputs": [],
   "source": [
    "#| export\n",
    "from neuralactivitycubic.input import ROI\n",
    "from neuralactivitycubic.analysis import AnalysisROI"
   ]
  },
  {
   "cell_type": "code",
   "execution_count": null,
   "metadata": {},
   "outputs": [],
   "source": [
    "#| export\n",
    "def plot_roi_boundaries(roi: Union[ROI, AnalysisROI], line_color: str, line_style: str, line_width: Union[int, float]) -> None:\n",
    "    roi_boundary_row_col_coords = np.asarray(roi.boundary_row_col_coords)\n",
    "    plt.plot(roi_boundary_row_col_coords[:, 1], roi_boundary_row_col_coords[:, 0], c = line_color, linestyle = line_style, linewidth = line_width)"
   ]
  },
  {
   "cell_type": "code",
   "execution_count": null,
   "metadata": {},
   "outputs": [],
   "source": [
    "#| export\n",
    "def _use_grid_row_col_labels_as_axis_labels(image_shape: Tuple[int, int], grid_configs: Dict[str, Any], ax: Axes, font_size: int=12) -> None:\n",
    "    ax.set_xticks(np.arange(0, image_shape[1], grid_configs['window_size']), labels = [])\n",
    "    ax.set_xticks(np.arange(grid_configs['window_size']/2, grid_configs['col_cropping_idx'] + grid_configs['window_size']/2, grid_configs['window_size']), \n",
    "                  labels = np.arange(1, grid_configs['col_cropping_idx']/grid_configs['window_size'] + 1, 1, dtype='int'),\n",
    "                  minor = True,\n",
    "                  fontsize = min(12, font_size))\n",
    "    ax.xaxis.set_label_text('X')\n",
    "    ax.set_yticks(np.arange(0,  image_shape[0], grid_configs['window_size']), labels = [])\n",
    "    ax.set_yticks(np.arange(grid_configs['window_size']/2, grid_configs['row_cropping_idx'] + grid_configs['window_size']/2, grid_configs['window_size']), \n",
    "                  labels = np.arange(1, grid_configs['row_cropping_idx']/grid_configs['window_size'] + 1, 1, dtype='int'), \n",
    "                  minor = True, \n",
    "                  fontsize = min(12, font_size))\n",
    "    ax.yaxis.set_label_text('Y')\n",
    "    ax.tick_params(bottom = False, left = False)"
   ]
  },
  {
   "cell_type": "code",
   "execution_count": null,
   "metadata": {},
   "outputs": [],
   "source": [
    "#| export\n",
    "def _plot_grid(grid_configs: Dict[str, Any], \n",
    "               grid_line_color: str,\n",
    "               grid_line_style: str,\n",
    "               grid_line_width: int,\n",
    "               focus_area_roi: Union[ROI, None],\n",
    "               area_line_color: str,\n",
    "               area_line_style: str,\n",
    "               area_line_width: int,\n",
    "               ax: Axes\n",
    "              ) -> None:\n",
    "    ax.grid(color = grid_line_color, linestyle = grid_line_style, linewidth = grid_line_width)\n",
    "    if focus_area_roi == None:\n",
    "        plt.hlines([0, grid_configs['row_cropping_idx']], \n",
    "                   xmin = 0, \n",
    "                   xmax = grid_configs['col_cropping_idx'], \n",
    "                   color = area_line_color,\n",
    "                   linestyle = area_line_style,\n",
    "                   linewidth = area_line_width)\n",
    "        plt.vlines([0, grid_configs['col_cropping_idx']],\n",
    "                   ymin = 0, \n",
    "                   ymax = grid_configs['row_cropping_idx'], \n",
    "                   color = area_line_color,\n",
    "                   linestyle = area_line_style,\n",
    "                   linewidth = area_line_width)\n",
    "    else:\n",
    "        plot_roi_boundaries(focus_area_roi, area_line_color, area_line_style, area_line_width)    "
   ]
  },
  {
   "cell_type": "code",
   "execution_count": null,
   "metadata": {},
   "outputs": [],
   "source": [
    "#| export\n",
    "def plot_window_size_preview(preview_image: np.ndarray, \n",
    "                             grid_configs: Dict[str, Any], \n",
    "                             focus_area_roi: Optional[ROI]=None\n",
    "                            ) ->Tuple[Figure, Axes]:\n",
    "    fig, ax = plt.subplots()\n",
    "    ax.imshow(preview_image, cmap=\"gray\") # vmin = np.percentile(preview_image, 2.5), vmax = np.percentile(preview_image, 97.5)\n",
    "    _plot_grid(grid_configs, 'gray', 'dashed', 1, focus_area_roi, 'cyan', 'solid', 2, ax)\n",
    "    _use_grid_row_col_labels_as_axis_labels(preview_image.shape, grid_configs, ax) \n",
    "    ax.set_title(f'Preview of grid for window size: {grid_configs[\"window_size\"]}')\n",
    "    return fig, ax"
   ]
  },
  {
   "cell_type": "code",
   "execution_count": null,
   "metadata": {},
   "outputs": [],
   "source": [
    "#| export\n",
    "def _get_text_bounding_box_size_in_data_dimensions(text: Text, fig: Figure, ax: Axes) -> Tuple[float, float]:\n",
    "    renderer = fig.canvas.get_renderer()\n",
    "    text_bbox_raw_dimensions = text.get_window_extent(renderer=renderer)\n",
    "    text_bbox_data_dimensions = Bbox(ax.transData.inverted().transform(text_bbox_raw_dimensions))\n",
    "    return np.abs(text_bbox_data_dimensions.width), np.abs(text_bbox_data_dimensions.height)"
   ]
  },
  {
   "cell_type": "code",
   "execution_count": null,
   "metadata": {},
   "outputs": [],
   "source": [
    "#| export\n",
    "def _iteratively_decrease_fontsize_to_fit_text_in_squares(text: Text, max_size: float, fig: Figure, ax: Axes) -> None:\n",
    "    text.set_fontsize(text.get_fontsize()-1)\n",
    "    text_width, text_height = _get_text_bounding_box_size_in_data_dimensions(text, fig, ax)\n",
    "    if (text_width > max_size) or (text_height > max_size): \n",
    "        _iteratively_decrease_fontsize_to_fit_text_in_squares(text, max_size, fig, ax)"
   ]
  },
  {
   "cell_type": "code",
   "execution_count": null,
   "metadata": {},
   "outputs": [],
   "source": [
    "#| export\n",
    "def _get_fontsize_adjusted_to_slimmest_roi(preview_image: np.ndarray, min_width: int, max_text_length: int, default_fontsize: int=25) -> float:\n",
    "    max_text_size = min_width*0.75\n",
    "    tmp_fig, tmp_ax = plt.subplots()\n",
    "    tmp_ax.imshow(preview_image)\n",
    "    sample_coord = min_width + 0.5 * min_width\n",
    "    max_width_text_from_number = '4'*max_text_length\n",
    "    tmp_text = tmp_ax.text(sample_coord, sample_coord, max_width_text_from_number, fontsize = default_fontsize)\n",
    "    text_width, text_height = _get_text_bounding_box_size_in_data_dimensions(tmp_text, tmp_fig, tmp_ax)\n",
    "    if (text_width > max_text_size) or (text_height > max_text_size):\n",
    "        _iteratively_decrease_fontsize_to_fit_text_in_squares(tmp_text, max_text_size, tmp_fig, tmp_ax)\n",
    "    adjusted_fontsize = tmp_text.get_fontsize()\n",
    "    plt.close(tmp_fig)\n",
    "    return adjusted_fontsize"
   ]
  },
  {
   "cell_type": "code",
   "execution_count": null,
   "metadata": {},
   "outputs": [],
   "source": [
    "#| export\n",
    "def _get_min_width_among_all_rois(analysis_rois: List[AnalysisROI], grid_configs: Optional[Dict[str, Any]]) -> int:\n",
    "    if grid_configs != None:\n",
    "        min_width = grid_configs['window_size']\n",
    "    else:\n",
    "        all_roi_widths = []\n",
    "        for roi in analysis_rois:\n",
    "            bounding_box_col_coords = get_coordinates(roi.as_polygon.envelope)[:, 1]\n",
    "            min_col_idx = bounding_box_col_coords.min()\n",
    "            max_col_idx = bounding_box_col_coords.max()\n",
    "            width = max_col_idx - min_col_idx\n",
    "            all_roi_widths.append(width)\n",
    "        min_width = min(all_roi_widths)\n",
    "    return min_width"
   ]
  },
  {
   "cell_type": "code",
   "execution_count": null,
   "metadata": {},
   "outputs": [],
   "source": [
    "#| export\n",
    "def _get_all_peak_counts(analysis_rois: List[AnalysisROI]) -> List[int]:\n",
    "    all_peak_counts = [roi.peaks_count for roi in analysis_rois]\n",
    "    return all_peak_counts"
   ]
  },
  {
   "cell_type": "code",
   "execution_count": null,
   "metadata": {},
   "outputs": [],
   "source": [
    "#| export\n",
    "def _get_max_peak_count(analysis_rois: List[AnalysisROI]) -> int:\n",
    "    all_peak_counts = _get_all_peak_counts(analysis_rois)\n",
    "    if len(all_peak_counts) > 0:\n",
    "        max_peak_count = max(all_peak_counts)\n",
    "    else:\n",
    "        max_peak_count = 0\n",
    "    return max_peak_count  "
   ]
  },
  {
   "cell_type": "code",
   "execution_count": null,
   "metadata": {},
   "outputs": [],
   "source": [
    "#| export\n",
    "def _get_total_peak_count(analysis_rois: List[AnalysisROI]) -> int:\n",
    "    all_peak_counts = _get_all_peak_counts(analysis_rois)\n",
    "    if len(all_peak_counts) == 0:\n",
    "        total_peak_count = 0\n",
    "    else:\n",
    "        total_peak_count = sum(all_peak_counts)\n",
    "    return total_peak_count"
   ]
  },
  {
   "cell_type": "code",
   "execution_count": null,
   "metadata": {},
   "outputs": [],
   "source": [
    "#| export\n",
    "def _plot_text_at_roi_centroid_coordinates(analysis_roi: AnalysisROI, text: str, size: int, color: str, ax: Axes) -> None:\n",
    "        ax.text(analysis_roi.centroid_row_col_coords[1], \n",
    "                analysis_roi.centroid_row_col_coords[0], \n",
    "                text, \n",
    "                color = color, \n",
    "                horizontalalignment='center', \n",
    "                verticalalignment = 'center', \n",
    "                fontsize = size)   "
   ]
  },
  {
   "cell_type": "code",
   "execution_count": null,
   "metadata": {},
   "outputs": [],
   "source": [
    "#| export\n",
    "def _plot_peak_count_text_for_each_analysis_roi(analysis_rois: List[AnalysisROI], preview_image: np.ndarray, grid_configs: Optional[Dict[str, Any]], ax: Axes) -> None:\n",
    "    max_peak_count = _get_max_peak_count(analysis_rois)\n",
    "    max_len_peak_count_text = len(str(max_peak_count))\n",
    "    min_width_among_all_rois = _get_min_width_among_all_rois(analysis_rois, grid_configs)\n",
    "    font_size = _get_fontsize_adjusted_to_slimmest_roi(preview_image, min_width_among_all_rois, max_len_peak_count_text)\n",
    "    for roi in analysis_rois:\n",
    "        _plot_text_at_roi_centroid_coordinates(roi, roi.peaks_count, font_size, 'magenta', ax)"
   ]
  },
  {
   "cell_type": "code",
   "execution_count": null,
   "metadata": {},
   "outputs": [],
   "source": [
    "#| export\n",
    "def plot_activity_overview(analysis_rois_with_sufficient_activity: Union[List[AnalysisROI], List], #With python 3.11 - change back to: List[Never]\n",
    "                           preview_image: np.ndarray,\n",
    "                           indicate_activity: bool=False,\n",
    "                           focus_area: Optional[ROI]=None,\n",
    "                           grid_configs: Optional[Dict[str, Any]]=None\n",
    "                          ) -> Tuple[Figure, Axes]:\n",
    "    fig, ax = plt.subplots()\n",
    "    ax.imshow(preview_image, cmap=\"gray\")\n",
    "    if len(analysis_rois_with_sufficient_activity) > 0:\n",
    "        if indicate_activity == True:\n",
    "            _plot_peak_count_text_for_each_analysis_roi(analysis_rois_with_sufficient_activity, preview_image, grid_configs, ax)\n",
    "        if grid_configs != None:\n",
    "            max_peak_count = _get_max_peak_count(analysis_rois_with_sufficient_activity)\n",
    "            max_len_peak_count_text = len(str(max_peak_count))\n",
    "            font_size = _get_fontsize_adjusted_to_slimmest_roi(preview_image, grid_configs['window_size'], max_len_peak_count_text)\n",
    "            _plot_grid(grid_configs, 'gray', 'dashed', 1, focus_area, 'cyan', 'solid', 2, ax)\n",
    "            _use_grid_row_col_labels_as_axis_labels(preview_image.shape, grid_configs, ax, font_size)\n",
    "        else:\n",
    "            for roi in analysis_rois_with_sufficient_activity:\n",
    "                plot_roi_boundaries(roi, 'magenta', 'solid', 1)\n",
    "    ax.set_title(f'Total activity: {_get_total_peak_count(analysis_rois_with_sufficient_activity)}')\n",
    "    return fig, ax"
   ]
  },
  {
   "cell_type": "code",
   "execution_count": null,
   "metadata": {},
   "outputs": [],
   "source": [
    "#| export\n",
    "def _get_max_label_id_length(analysis_rois_with_sufficient_activity: List[AnalysisROI], grid_configs: Union[None, Dict[str, Any]]) -> int:\n",
    "    if grid_configs != None:\n",
    "        max_label_id_length = 1 + grid_configs['max_len_row_label_id'] + grid_configs['max_len_col_label_id']\n",
    "    else:\n",
    "        max_label_id_length = len(analysis_rois_with_sufficient_activity[0].label_id)\n",
    "    return max_label_id_length"
   ]
  },
  {
   "cell_type": "code",
   "execution_count": null,
   "metadata": {},
   "outputs": [],
   "source": [
    "#| export\n",
    "def plot_rois_with_label_id_overview(analysis_rois_with_sufficient_activity: Union[List[AnalysisROI], List], #With python 3.11 - change back to: List[Never]\n",
    "                                     preview_image: np.ndarray,\n",
    "                                     focus_area: Optional[ROI]=None,\n",
    "                                     grid_configs: Optional[Dict[str, Any]]=None\n",
    "                                    ) -> Tuple[Figure, Axes]:\n",
    "    fig, ax = plt.subplots()\n",
    "    image_row_col_dimensions = (preview_image.shape[0], preview_image.shape[1])\n",
    "    blank_image = np.zeros(image_row_col_dimensions)\n",
    "    ax.imshow(blank_image, cmap='gray_r')\n",
    "    if len(analysis_rois_with_sufficient_activity) > 0:\n",
    "        max_label_id_length = _get_max_label_id_length(analysis_rois_with_sufficient_activity, grid_configs)\n",
    "        min_width_among_all_rois = _get_min_width_among_all_rois(analysis_rois_with_sufficient_activity, grid_configs)\n",
    "        font_size = _get_fontsize_adjusted_to_slimmest_roi(blank_image, min_width_among_all_rois, max_label_id_length)\n",
    "        for roi in analysis_rois_with_sufficient_activity:\n",
    "            _plot_text_at_roi_centroid_coordinates(roi, roi.label_id, font_size, 'black', ax)\n",
    "        if grid_configs != None:\n",
    "            _plot_grid(grid_configs, 'black', 'solid', 1, focus_area, 'gray', 'dashed', 2, ax)\n",
    "            _use_grid_row_col_labels_as_axis_labels(preview_image.shape, grid_configs, ax, font_size)\n",
    "        else:\n",
    "            for roi in analysis_rois_with_sufficient_activity:\n",
    "                plot_roi_boundaries(roi, 'black', 'solid', 1)\n",
    "    ax.set_title('IDs of ROIs with sufficient activity:')\n",
    "    return fig, ax"
   ]
  },
  {
   "cell_type": "code",
   "execution_count": null,
   "metadata": {},
   "outputs": [],
   "source": [
    "#| export\n",
    "def plot_intensity_trace_with_identified_peaks_for_individual_roi(analysis_roi: AnalysisROI) -> Figure:\n",
    "    fig = plt.figure(figsize = (9, 2.67), facecolor = 'white')\n",
    "    plt.plot(analysis_roi.mean_intensity_over_time, c = 'gray')\n",
    "    if hasattr(analysis_roi, 'baseline'):\n",
    "        plt.plot(analysis_roi.baseline, c = 'cyan')\n",
    "    for peak in analysis_roi.peaks.values():\n",
    "        if peak.has_neighboring_intersections == True:\n",
    "            plt.plot(peak.frame_idx, peak.intensity, 'mo')\n",
    "            start_idx = peak.frame_idxs_of_neighboring_intersections[0] - 1\n",
    "            if start_idx < 0:\n",
    "                start_idx = 0\n",
    "            end_idx = peak.frame_idxs_of_neighboring_intersections[1] + 1\n",
    "            plt.fill_between(np.arange(start_idx, end_idx, 1), \n",
    "                             analysis_roi.mean_intensity_over_time[start_idx : end_idx], \n",
    "                             analysis_roi.baseline[start_idx : end_idx], \n",
    "                             where = analysis_roi.mean_intensity_over_time[start_idx : end_idx] > analysis_roi.baseline[start_idx : end_idx], \n",
    "                             interpolate = True, \n",
    "                             color='yellow',\n",
    "                             alpha = 0.6)\n",
    "        else:\n",
    "            plt.plot(peak.frame_idx, peak.intensity, 'ko')\n",
    "    plt.title(f'Graph of ROI: {analysis_roi.label_id}   -   Total Activity: {analysis_roi.peaks_count}')\n",
    "    plt.tight_layout()\n",
    "    return fig"
   ]
  },
  {
   "cell_type": "code",
   "execution_count": null,
   "metadata": {},
   "outputs": [],
   "source": [
    "#| export\n",
    "def export_peak_results_df_from_analysis_roi(analysis_roi: AnalysisROI) -> pd.DataFrame:\n",
    "    all_peaks = [peak for peak in analysis_roi.peaks.values()]\n",
    "    df_all_peak_results_single_roi = pd.DataFrame(all_peaks)\n",
    "    df_all_peak_results_single_roi.drop(['has_neighboring_intersections', 'frame_idxs_of_neighboring_intersections'], axis = 'columns', inplace = True)\n",
    "    df_all_peak_results_single_roi.columns = ['peak frame index', 'peak bit value', 'peak amplitude', 'peak dF/F',  'peak AUC', 'peak classification']\n",
    "    df_all_peak_results_single_roi.insert(loc = 0, column = 'ROI label ID', value = f'{analysis_roi.label_id}')\n",
    "    return df_all_peak_results_single_roi"
   ]
  },
  {
   "cell_type": "code",
   "execution_count": null,
   "metadata": {},
   "outputs": [],
   "source": [
    "#| export\n",
    "def create_single_roi_amplitude_and_delta_f_over_f_results(df_all_results_single_roi: pd.DataFrame, zfill_factor: int) -> pd.DataFrame:\n",
    "    rearranged_data = {'ROI label ID': [df_all_results_single_roi['ROI label ID'].iloc[0]],\n",
    "                       'total peak count': [df_all_results_single_roi.shape[0]]}\n",
    "    for i in range(df_all_results_single_roi.shape[0]):\n",
    "        peak_idx = str(i + 1)\n",
    "        peak_idx_suffix = peak_idx.zfill(zfill_factor)\n",
    "        rearranged_data[f'frame index peak #{peak_idx_suffix}'] = [df_all_results_single_roi.iloc[i]['peak frame index']]\n",
    "        rearranged_data[f'amplitude peak #{peak_idx_suffix}'] = [df_all_results_single_roi.iloc[i]['peak amplitude']]\n",
    "        rearranged_data[f'dF/F peak #{peak_idx_suffix}'] = [df_all_results_single_roi.iloc[i]['peak dF/F']]\n",
    "    return pd.DataFrame(rearranged_data)"
   ]
  },
  {
   "cell_type": "code",
   "execution_count": null,
   "metadata": {},
   "outputs": [],
   "source": [
    "#| export\n",
    "def create_single_roi_auc_results(df_all_results_single_roi: pd.DataFrame, zfill_factor: int) -> pd.DataFrame:\n",
    "    rearranged_data = {'ROI label ID': [df_all_results_single_roi['ROI label ID'].iloc[0]],\n",
    "                       'total count all peaks': [df_all_results_single_roi.shape[0]],\n",
    "                       'total count \"singular\" peaks': [df_all_results_single_roi['peak classification'].str.count('singular').sum()],\n",
    "                       'total count \"clustered\" peaks': [df_all_results_single_roi['peak classification'].str.count('clustered').sum()],\n",
    "                       'total count \"isolated\" peaks': [df_all_results_single_roi['peak classification'].str.count('isolated').sum()]}\n",
    "    for i in range(df_all_results_single_roi.shape[0]):\n",
    "        peak_idx = str(i + 1)\n",
    "        peak_idx_suffix = peak_idx.zfill(zfill_factor)\n",
    "        rearranged_data[f'frame index peak #{peak_idx_suffix}'] = [df_all_results_single_roi.iloc[i]['peak frame index']]\n",
    "        rearranged_data[f'AUC peak #{peak_idx_suffix}'] = [df_all_results_single_roi.iloc[i]['peak AUC']]\n",
    "        rearranged_data[f'classification peak #{peak_idx_suffix}'] = [df_all_results_single_roi.iloc[i]['peak classification']]\n",
    "    return pd.DataFrame(rearranged_data)"
   ]
  },
  {
   "cell_type": "code",
   "execution_count": null,
   "metadata": {},
   "outputs": [],
   "source": [
    "#| hide\n",
    "import nbdev; nbdev.nbdev_export()"
   ]
  }
 ],
 "metadata": {
  "kernelspec": {
   "display_name": "na3_nbdev",
   "language": "python",
   "name": "na3_nbdev"
  }
 },
 "nbformat": 4,
 "nbformat_minor": 4
}
