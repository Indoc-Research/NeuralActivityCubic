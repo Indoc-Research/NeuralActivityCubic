{
 "cells": [
  {
   "cell_type": "markdown",
   "id": "98185714-2938-49e9-84f8-cd2c7088b32c",
   "metadata": {},
   "source": [
    "# Tutorial"
   ]
  },
  {
   "cell_type": "markdown",
   "id": "3c48263f-e895-4c6e-a0af-e95544f5d77a",
   "metadata": {},
   "source": [
    "## Getting started"
   ]
  },
  {
   "cell_type": "markdown",
   "id": "c568a150-9619-49ad-b606-027d8c9a944e",
   "metadata": {},
   "source": [
    "After you successfully completed the installation of neuralactivitycubic (NA³), open JupyterLab in your browser and launch the GUI (graphical user interface) of NA³ by running the following commands in a Jupyter Notebook:"
   ]
  },
  {
   "cell_type": "code",
   "execution_count": null,
   "id": "ad9aa68f-5355-425f-8514-b37d65ca0bab",
   "metadata": {},
   "outputs": [],
   "source": []
  }
 ],
 "metadata": {
  "kernelspec": {
   "display_name": "python3",
   "language": "python",
   "name": "python3"
  }
 },
 "nbformat": 4,
 "nbformat_minor": 5
}
