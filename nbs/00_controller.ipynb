{
 "cells": [
  {
   "cell_type": "markdown",
   "metadata": {},
   "source": [
    "# controller\n",
    "\n",
    "> Defines the interface between View & Model."
   ]
  },
  {
   "cell_type": "code",
   "execution_count": null,
   "metadata": {},
   "outputs": [],
   "source": [
    "#| default_exp controller"
   ]
  },
  {
   "cell_type": "code",
   "execution_count": null,
   "metadata": {},
   "outputs": [],
   "source": [
    "#| hide\n",
    "from nbdev.showdoc import *"
   ]
  },
  {
   "cell_type": "code",
   "execution_count": null,
   "metadata": {},
   "outputs": [],
   "source": [
    "#| export\n",
    "import matplotlib.pyplot as plt\n",
    "from IPython.display import display"
   ]
  },
  {
   "cell_type": "code",
   "execution_count": null,
   "metadata": {},
   "outputs": [],
   "source": [
    "#| export\n",
    "from neuralactivitycubic.model import Model\n",
    "from neuralactivitycubic.view import WidgetsInterface\n",
    "from neuralactivitycubic import results"
   ]
  },
  {
   "cell_type": "code",
   "execution_count": null,
   "metadata": {},
   "outputs": [],
   "source": [
    "#|export\n",
    "class App:\n",
    "\n",
    "    def __init__(self):\n",
    "        self.model = Model()\n",
    "        self.view = WidgetsInterface()\n",
    "        self.pixel_conversion = 1/plt.rcParams['figure.dpi']\n",
    "        self._setup_interaction_between_model_and_view()\n",
    "\n",
    "\n",
    "    def _setup_interaction_between_model_and_view(self) -> None:\n",
    "        self._bind_buttons_of_view_to_functions_of_model()\n",
    "        self.model.setup_connection_to_update_infos_in_view(self.view.update_infos)\n",
    "        self.model.setup_connection_to_display_results(self.view.main_screen.show_output_screen, self.view.main_screen.output, self.pixel_conversion)\n",
    "\n",
    "\n",
    "    def _bind_buttons_of_view_to_functions_of_model(self) -> None:\n",
    "        self.view.source_data_panel.load_source_data_button.on_click(self._load_data_button_clicked)\n",
    "        self.view.analysis_settings_panel.run_analysis_button.on_click(self._run_button_clicked)\n",
    "        self.view.analysis_settings_panel.preview_window_size_button.on_click(self._preview_window_size_button_clicked)\n",
    "\n",
    "    \n",
    "    def launch(self) -> None:\n",
    "        display(self.view.widget)\n",
    "\n",
    "\n",
    "    def _load_data_button_clicked(self, change) -> None:\n",
    "        user_settings = self.view.export_user_settings()\n",
    "        self.model.create_analysis_jobs(user_settings)\n",
    "        if len(self.model.analysis_job_queue) < 1:\n",
    "            self.model.add_info_to_logs('Failed to create any analysis job(s). Please inspect logs for more details!', True)\n",
    "            self.view.user_info_panel.progress_bar.bar_style = 'danger'\n",
    "        else:\n",
    "            self._display_preview_of_representative_job(window_size = user_settings.grid_size)\n",
    "            self.model.add_info_to_logs(f'Data import completed! {len(self.model.analysis_job_queue)} job(s) in queue.', True, 100.0)\n",
    "            self.view.enable_analysis()\n",
    "\n",
    "    \n",
    "    def _display_preview_of_representative_job(self, window_size: int) -> None:\n",
    "        representative_job = self.model.analysis_job_queue[0]\n",
    "        representative_job.load_data_into_memory(window_size)\n",
    "        self.view.adjust_widgets_to_loaded_data(total_frames = representative_job.recording.zstack.shape[0])\n",
    "        self.view.main_screen.show_output_screen()\n",
    "        with self.view.main_screen.output:\n",
    "            fig = plt.figure(figsize = (600*self.pixel_conversion, 400*self.pixel_conversion))\n",
    "            if representative_job.focus_area_enabled == True:\n",
    "                results.plot_roi_boundaries(representative_job.focus_area, 'cyan', 'solid', 2)\n",
    "            if representative_job.rois_source == 'file':\n",
    "                for roi in representative_job.all_rois:\n",
    "                    results.plot_roi_boundaries(roi, 'magenta', 'solid', 1)                 \n",
    "            plt.imshow(representative_job.recording.preview, cmap = 'gray')\n",
    "            plt.tight_layout()\n",
    "            plt.show()\n",
    "\n",
    "\n",
    "    def _run_button_clicked(self, change) -> None:\n",
    "        self.view.enable_analysis(False)\n",
    "        user_settings = self.view.export_user_settings()\n",
    "        self.model.run_analysis(user_settings)\n",
    "        self.model.add_info_to_logs(f'Processing of all jobs completed! Feel free to load more data & continue analyzing!', True, 100.0)\n",
    "        self.view.enable_analysis(True)\n",
    "\n",
    "\n",
    "    def _preview_window_size_button_clicked(self, change) -> None:\n",
    "        self.view.main_screen.show_output_screen()\n",
    "        with self.view.main_screen.output:\n",
    "            user_settings = self.view.export_user_settings()\n",
    "            preview_fig, preview_ax = self.model.preview_window_size(user_settings)\n",
    "            preview_fig.set_figheight(400 * self.pixel_conversion)\n",
    "            preview_fig.tight_layout()\n",
    "            plt.show(preview_fig)"
   ]
  },
  {
   "cell_type": "code",
   "execution_count": null,
   "metadata": {},
   "outputs": [],
   "source": [
    "#| export\n",
    "def open_gui():\n",
    "    \"Start the interactive widgets interface for NeuralActivityCubic\"\n",
    "    na3 = App()\n",
    "    return na3.launch()"
   ]
  },
  {
   "cell_type": "code",
   "execution_count": null,
   "metadata": {},
   "outputs": [],
   "source": [
    "#| hide\n",
    "import nbdev; nbdev.nbdev_export()"
   ]
  }
 ],
 "metadata": {
  "kernelspec": {
   "display_name": "na3_nbdev",
   "language": "python",
   "name": "na3_nbdev"
  }
 },
 "nbformat": 4,
 "nbformat_minor": 4
}
