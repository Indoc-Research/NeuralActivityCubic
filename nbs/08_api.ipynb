{
 "cells": [
  {
   "cell_type": "code",
   "execution_count": null,
   "id": "8199df3b6fd35ebc",
   "metadata": {},
   "outputs": [],
   "source": [
    "#| default_exp api"
   ]
  },
  {
   "cell_type": "code",
   "execution_count": null,
   "id": "6b04790bfa1ef1f0",
   "metadata": {},
   "outputs": [],
   "source": [
    "#| hide\n",
    "from nbdev.showdoc import *"
   ]
  },
  {
   "cell_type": "code",
   "execution_count": null,
   "id": "767ce03c79167d78",
   "metadata": {},
   "outputs": [],
   "source": [
    "#| export\n",
    "from neuralactivitycubic.datamodels import Config\n",
    "from neuralactivitycubic.model import Model\n",
    "\n",
    "def run_analysis(config: Config | str) -> None:\n",
    "    \"\"\"\n",
    "    Run analysis.\n",
    "\n",
    "    Args:\n",
    "        config (Config | str): Configuration for analysis or data source path to run analysis with default settings.\n",
    "    \"\"\"\n",
    "    model = Model(config)\n",
    "    model.create_analysis_jobs()\n",
    "    model.run_analysis()"
   ]
  },
  {
   "cell_type": "code",
   "execution_count": null,
   "id": "ea5601dd528ef60",
   "metadata": {},
   "outputs": [],
   "source": [
    "#| hide\n",
    "import nbdev; nbdev.nbdev_export()"
   ]
  },
  {
   "cell_type": "code",
   "execution_count": null,
   "id": "3989307c1357fa80",
   "metadata": {},
   "outputs": [],
   "source": [
    "#| hide\n",
    "import os\n",
    "from copy import copy\n",
    "\n",
    "from dataclasses import replace\n",
    "from shutil import rmtree\n",
    "\n",
    "from fastcore.test import test_fail"
   ]
  },
  {
   "cell_type": "code",
   "execution_count": null,
   "id": "2b50150108d5eb07",
   "metadata": {},
   "outputs": [],
   "source": [
    "#| hide\n",
    "parent_directory = '../test_data/'\n",
    "filepath = '../test_data/00/spiking_neuron.avi'\n",
    "results_path = '../test_data/results/default/'\n",
    "\n",
    "def test_run_analysis():\n",
    "    \"\"\"\n",
    "    Test run_analysis function with minimalistic configuration.\n",
    "    \"\"\"\n",
    "    run_analysis(filepath)\n",
    "\n",
    "\n",
    "default_config = Config(batch_mode=False,\n",
    "                        baseline_estimation_method='asls',\n",
    "                        customize_octave_filtering=False,\n",
    "                        data_source_path=filepath,\n",
    "                        end_frame_idx=500,\n",
    "                        focus_area_enabled=False,\n",
    "                        focus_area_filepath=None,\n",
    "                        grid_size=10,\n",
    "                        include_variance=False,\n",
    "                        mean_signal_threshold=10.0,\n",
    "                        min_octave_span=1.0,\n",
    "                        min_peak_count=2,\n",
    "                        noise_window_size=200,\n",
    "                        recording_filepath=None,\n",
    "                        results_filepath=results_path,\n",
    "                        roi_filepath=None,\n",
    "                        roi_mode='grid',\n",
    "                        save_overview_png=True,\n",
    "                        save_single_trace_results=False,\n",
    "                        save_summary_results=True,\n",
    "                        signal_to_noise_ratio=3.0,\n",
    "                        start_frame_idx=0,\n",
    "                        use_frame_range=False,\n",
    "                        variance_window_size=15,\n",
    "                        )\n",
    "\n",
    "def test_run_analysis_with_custom_results_directory():\n",
    "    \"\"\"\n",
    "    Test run_analysis function with custom directory to clean-up afterward.\n",
    "    \"\"\"\n",
    "    custom_results_config = copy(default_config)\n",
    "    run_analysis(custom_results_config)\n",
    "\n",
    "def test_run_analysis_with_missing_file():\n",
    "    \"\"\"\n",
    "    Test run_analysis function with incorrect configuration.\n",
    "    \"\"\"\n",
    "    run_analysis('non_existing_file.avi')\n",
    "\n",
    "\n",
    "def test_run_analysis_with_incorrect_config_batch_mode():\n",
    "    \"\"\"\n",
    "    Test run_analysis function with incorrect configuration.\n",
    "    \"\"\"\n",
    "    incorrect_config_batch_mode = replace(default_config, batch_mode='invalid_value')\n",
    "    run_analysis(incorrect_config_batch_mode)\n",
    "\n",
    "def test_run_analysis_with_incorrect_config_recording_filepath():\n",
    "    \"\"\"\n",
    "    Test run_analysis function with incorrect configuration.\n",
    "    \"\"\"\n",
    "    incorrect_config_recording_filepath = replace(default_config, recording_filepath='non_existing_file.avi')\n",
    "    run_analysis(incorrect_config_recording_filepath)"
   ]
  },
  {
   "cell_type": "code",
   "execution_count": null,
   "id": "ad368759ac64c37f",
   "metadata": {},
   "outputs": [],
   "source": [
    "#| hide\n",
    "\n",
    "assert test_run_analysis_with_custom_results_directory() is None\n",
    "\n",
    "rmtree(results_path)\n",
    "\n",
    "test_fail(test_run_analysis_with_missing_file)\n",
    "test_fail(test_run_analysis_with_incorrect_config_batch_mode)\n",
    "test_fail(test_run_analysis_with_incorrect_config_recording_filepath)"
   ]
  }
 ],
 "metadata": {
  "kernelspec": {
   "display_name": "python3",
   "language": "python",
   "name": "python3"
  }
 },
 "nbformat": 4,
 "nbformat_minor": 5
}
