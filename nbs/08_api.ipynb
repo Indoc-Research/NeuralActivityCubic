{
 "cells": [
  {
   "cell_type": "code",
   "execution_count": null,
   "id": "8199df3b6fd35ebc",
   "metadata": {},
   "outputs": [],
   "source": "#| default_exp api"
  },
  {
   "cell_type": "code",
   "execution_count": null,
   "id": "6b04790bfa1ef1f0",
   "metadata": {},
   "outputs": [],
   "source": [
    "#| hide\n",
    "from nbdev.showdoc import *"
   ]
  },
  {
   "cell_type": "code",
   "execution_count": null,
   "id": "767ce03c79167d78",
   "metadata": {},
   "outputs": [],
   "source": "pass"
  }
 ],
 "metadata": {
  "kernelspec": {
   "display_name": "python3",
   "language": "python",
   "name": "python3"
  }
 },
 "nbformat": 4,
 "nbformat_minor": 5
}
