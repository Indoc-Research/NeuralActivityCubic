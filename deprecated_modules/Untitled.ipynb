{
 "cells": [
  {
   "cell_type": "code",
   "execution_count": null,
   "id": "f36cff49-554c-4592-a14c-8fe440f49e33",
   "metadata": {},
   "outputs": [],
   "source": [
    "import neuralactivitycubic as na3"
   ]
  },
  {
   "cell_type": "code",
   "execution_count": null,
   "id": "f3b82371-1637-4349-87c0-ac9c475337f2",
   "metadata": {},
   "outputs": [
    {
     "data": {
      "text/plain": [
       "'0.0.3'"
      ]
     },
     "execution_count": null,
     "metadata": {},
     "output_type": "execute_result"
    }
   ],
   "source": [
    "na3.__version__"
   ]
  },
  {
   "cell_type": "code",
   "execution_count": null,
   "id": "03030c45-7a4c-4893-b76e-3d86d5139a88",
   "metadata": {},
   "outputs": [],
   "source": [
    "from neuralactivitycubic.controller import open_gui"
   ]
  },
  {
   "cell_type": "code",
   "execution_count": null,
   "id": "75a395ef-7d28-4a98-8716-2399e45a5ce7",
   "metadata": {},
   "outputs": [
    {
     "data": {
      "application/vnd.jupyter.widget-view+json": {
       "model_id": "6d3df11ed0864eeca4702d1d8598191d",
       "version_major": 2,
       "version_minor": 0
      },
      "text/plain": [
       "VBox(children=(HBox(children=(VBox(children=(HTML(value=\"<p style='font-size:16px; font-weight:bold; text-alig…"
      ]
     },
     "metadata": {},
     "output_type": "display_data"
    }
   ],
   "source": [
    "open_gui()"
   ]
  },
  {
   "cell_type": "code",
   "execution_count": null,
   "id": "e240b44e-79f2-45ee-a555-045f7fa4d5c2",
   "metadata": {},
   "outputs": [],
   "source": []
  }
 ],
 "metadata": {
  "kernelspec": {
   "display_name": "na3_nbdev",
   "language": "python",
   "name": "na3_nbdev"
  },
  "language_info": {
   "codemirror_mode": {
    "name": "ipython",
    "version": 3
   },
   "file_extension": ".py",
   "mimetype": "text/x-python",
   "name": "python",
   "nbconvert_exporter": "python",
   "pygments_lexer": "ipython3",
   "version": "3.11.10"
  }
 },
 "nbformat": 4,
 "nbformat_minor": 5
}
